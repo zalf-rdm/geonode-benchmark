{
 "cells": [
  {
   "cell_type": "code",
   "execution_count": 1,
   "id": "973e4691",
   "metadata": {},
   "outputs": [],
   "source": [
    "import geopandas as gpd\n",
    "import geodatasets as gds\n",
    "import os"
   ]
  },
  {
   "cell_type": "code",
   "execution_count": 2,
   "id": "971e70a3",
   "metadata": {},
   "outputs": [
    {
     "name": "stdout",
     "output_type": "stream",
     "text": [
      "56\n"
     ]
    },
    {
     "ename": "AttributeError",
     "evalue": "module 'geopandas' has no attribute 'hist'",
     "output_type": "error",
     "traceback": [
      "\u001b[0;31m---------------------------------------------------------------------------\u001b[0m",
      "\u001b[0;31mAttributeError\u001b[0m                            Traceback (most recent call last)",
      "Cell \u001b[0;32mIn[2], line 13\u001b[0m\n\u001b[1;32m      8\u001b[0m     \u001b[38;5;66;03m# Size in MegaBytes\u001b[39;00m\n\u001b[1;32m      9\u001b[0m     size_datasets\u001b[38;5;241m.\u001b[39mappend(\n\u001b[1;32m     10\u001b[0m         os\u001b[38;5;241m.\u001b[39mstat(\u001b[38;5;124m\"\u001b[39m\u001b[38;5;124m./datasets/\u001b[39m\u001b[38;5;124m\"\u001b[39m \u001b[38;5;241m+\u001b[39m \u001b[38;5;28mstr\u001b[39m(u) \u001b[38;5;241m+\u001b[39m \u001b[38;5;124m\"\u001b[39m\u001b[38;5;124m.geojson\u001b[39m\u001b[38;5;124m\"\u001b[39m)\u001b[38;5;241m.\u001b[39mst_size \u001b[38;5;241m/\u001b[39m (\u001b[38;5;241m1024\u001b[39m \u001b[38;5;241m*\u001b[39m \u001b[38;5;241m1024\u001b[39m)\n\u001b[1;32m     11\u001b[0m     )\n\u001b[0;32m---> 13\u001b[0m \u001b[43mgpd\u001b[49m\u001b[38;5;241;43m.\u001b[39;49m\u001b[43mhist\u001b[49m(size_datasets)\n",
      "\u001b[0;31mAttributeError\u001b[0m: module 'geopandas' has no attribute 'hist'"
     ]
    }
   ],
   "source": [
    "\n",
    "datasets_list = list(gds.data.flatten().keys())\n",
    "print(len(datasets_list))\n",
    "\n",
    "size_datasets = []\n",
    "for u in range(len(datasets_list)):\n",
    "    dataset = gpd.read_file(gds.get_path(datasets_list[u]))\n",
    "    dataset.to_file(\"./datasets/\" + str(u) + \".geojson\", driver=\"GeoJSON\")\n",
    "    # Size in MegaBytes\n",
    "    size_datasets.append(\n",
    "        os.stat(\"./datasets/\" + str(u) + \".geojson\").st_size / (1024 * 1024)\n",
    "    )\n"
   ]
  },
  {
   "cell_type": "code",
   "execution_count": null,
   "id": "5e1538fb",
   "metadata": {},
   "outputs": [],
   "source": []
  }
 ],
 "metadata": {
  "kernelspec": {
   "display_name": "Python 3 (ipykernel)",
   "language": "python",
   "name": "python3"
  },
  "language_info": {
   "codemirror_mode": {
    "name": "ipython",
    "version": 3
   },
   "file_extension": ".py",
   "mimetype": "text/x-python",
   "name": "python",
   "nbconvert_exporter": "python",
   "pygments_lexer": "ipython3",
   "version": "3.1.-1"
  }
 },
 "nbformat": 4,
 "nbformat_minor": 5
}
